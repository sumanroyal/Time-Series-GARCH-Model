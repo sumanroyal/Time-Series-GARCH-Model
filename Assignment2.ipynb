{
 "cells": [
  {
   "cell_type": "markdown",
   "id": "3cacd143",
   "metadata": {},
   "source": [
    "### Suman Roy(MDS202041), Time Series Analysis Assignment 2"
   ]
  },
  {
   "cell_type": "markdown",
   "id": "3cd70ebe",
   "metadata": {},
   "source": [
    "### Importing the Libraries"
   ]
  },
  {
   "cell_type": "code",
   "execution_count": 93,
   "id": "6e5493ca",
   "metadata": {},
   "outputs": [],
   "source": [
    "options(warn=-1)"
   ]
  },
  {
   "cell_type": "code",
   "execution_count": 94,
   "id": "06bd5f41",
   "metadata": {},
   "outputs": [],
   "source": [
    "library(tseries)\n",
    "library(zoo)\n",
    "library(rugarch)\n",
    "library(forecast)\n"
   ]
  },
  {
   "cell_type": "markdown",
   "id": "347a874a",
   "metadata": {},
   "source": [
    "### Importing Apple stock data "
   ]
  },
  {
   "cell_type": "markdown",
   "id": "be2ec8a7",
   "metadata": {},
   "source": [
    "I have taken APPLE stock data(Close Price) from 2017-11-01 to 2021-11-27 as the time series. The last 6 data pints have been segregated later as test data for the evaluation of the forecast. "
   ]
  },
  {
   "cell_type": "code",
   "execution_count": 95,
   "id": "cbb08306",
   "metadata": {},
   "outputs": [
    {
     "name": "stdout",
     "output_type": "stream",
     "text": [
      "time series ends   2021-11-26\n"
     ]
    }
   ],
   "source": [
    "start_date <- as.Date(\"2017-11-01\")\n",
    "end_date <- as.Date(\"2021-11-27\")\n",
    "stock<-get.hist.quote(instrument = \"AAPL\",start=start_date,end=end_date,quote=\"Close\",provider = \"yahoo\") "
   ]
  },
  {
   "cell_type": "code",
   "execution_count": 81,
   "id": "453099f1",
   "metadata": {},
   "outputs": [
    {
     "data": {
      "image/png": "[encoded data removed]",
      "text/plain": [
       "Plot with title \"Apple Stock Price\""
      ]
     },
     "metadata": {},
     "output_type": "display_data"
    }
   ],
   "source": [
    "plot(stock, xlab = \"Time\", ylab =\"Close\", main = \"Apple Stock Price\")"
   ]
  },
  {
   "cell_type": "markdown",
   "id": "faf4176d",
   "metadata": {},
   "source": [
    "### Stationarity checking of the time series "
   ]
  },
  {
   "cell_type": "markdown",
   "id": "67825b67",
   "metadata": {},
   "source": [
    "{Pt}"
   ]
  },
  {
   "cell_type": "code",
   "execution_count": 4,
   "id": "a086060c",
   "metadata": {},
   "outputs": [],
   "source": [
    "data = ts(stock)"
   ]
  },
  {
   "cell_type": "code",
   "execution_count": 5,
   "id": "a22fc48d",
   "metadata": {},
   "outputs": [
    {
     "data": {
      "text/plain": [
       "\n",
       "\tAugmented Dickey-Fuller Test\n",
       "\n",
       "data:  data\n",
       "Dickey-Fuller = -1.9878, Lag order = 10, p-value = 0.5835\n",
       "alternative hypothesis: stationary\n"
      ]
     },
     "metadata": {},
     "output_type": "display_data"
    }
   ],
   "source": [
    "adf.test(data)"
   ]
  },
  {
   "cell_type": "code",
   "execution_count": 96,
   "id": "dafc578b",
   "metadata": {},
   "outputs": [
    {
     "data": {
      "text/plain": [
       "\n",
       "\tKPSS Test for Level Stationarity\n",
       "\n",
       "data:  data\n",
       "KPSS Level = 11.68, Truncation lag parameter = 7, p-value = 0.01\n"
      ]
     },
     "metadata": {},
     "output_type": "display_data"
    }
   ],
   "source": [
    "kpss.test(data)"
   ]
  },
  {
   "cell_type": "code",
   "execution_count": 7,
   "id": "1262c6e1",
   "metadata": {},
   "outputs": [
    {
     "data": {
      "text/plain": [
       "\n",
       "\tPhillips-Perron Unit Root Test\n",
       "\n",
       "data:  data\n",
       "Dickey-Fuller Z(alpha) = -6.8378, Truncation lag parameter = 7, p-value\n",
       "= 0.7283\n",
       "alternative hypothesis: stationary\n"
      ]
     },
     "metadata": {},
     "output_type": "display_data"
    }
   ],
   "source": [
    "pp.test(data)"
   ]
  },
  {
   "cell_type": "markdown",
   "id": "7036d6b2",
   "metadata": {},
   "source": [
    "For ADF and PP test Null hypothesis is : \"The time series has a unit root and hence not stationary\", and alternative hypothesis is: \"The time series is stationary\". We see that for both PP and ADF test p-values are 0.7283 and 0.5835 respectively.They are significantly higher than the significance level of 0.05. So we fail to reject the null hypothesis for these two tests. From ADF and PP test the conclusion is the time series is not stationary. Now for KPSS test, the Null Hypothesis is: \"The time series is stationary\" and the alternative hypohesis is:\"The time series has a unit root and hence not stationary.\" We see that for KPSS test the p-value is 0.01 which is lower than the significance leve of 0.05. So we can reject the null hypothesis. The conclusion from KPSS test also comes out to be that the data is not stationary. "
   ]
  },
  {
   "cell_type": "markdown",
   "id": "6b72eb8d",
   "metadata": {},
   "source": [
    "### Log Retrun Series"
   ]
  },
  {
   "cell_type": "markdown",
   "id": "1fd3eace",
   "metadata": {},
   "source": [
    "Yt = log( Pt/Pt-1)\n"
   ]
  },
  {
   "cell_type": "code",
   "execution_count": 82,
   "id": "1f079d5e",
   "metadata": {
    "scrolled": false
   },
   "outputs": [
    {
     "data": {
      "image/png": "[encoded data removed]",
      "text/plain": [
       "Plot with title \"Apple Stock Log Return Time Series\""
      ]
     },
     "metadata": {},
     "output_type": "display_data"
    }
   ],
   "source": [
    "data2 = diff(log(data))\n",
    "plot(data2, xlab = \"Time\", ylab = \"Log Return\",main = \"Apple Stock Log Return Time Series\")"
   ]
  },
  {
   "cell_type": "markdown",
   "id": "46eb91ab",
   "metadata": {},
   "source": [
    "So after taking the log return we can see that the time series has been stationary(more or less) from the plot. We will now perform the stationarity tests of the log return data. \n"
   ]
  },
  {
   "cell_type": "markdown",
   "id": "d390563b",
   "metadata": {},
   "source": [
    "### Stationarity checking of Log return series"
   ]
  },
  {
   "cell_type": "code",
   "execution_count": 97,
   "id": "c05a1e41",
   "metadata": {},
   "outputs": [
    {
     "data": {
      "text/plain": [
       "\n",
       "\tAugmented Dickey-Fuller Test\n",
       "\n",
       "data:  data2\n",
       "Dickey-Fuller = -9.1362, Lag order = 10, p-value = 0.01\n",
       "alternative hypothesis: stationary\n"
      ]
     },
     "metadata": {},
     "output_type": "display_data"
    }
   ],
   "source": [
    "adf.test(data2)"
   ]
  },
  {
   "cell_type": "code",
   "execution_count": 98,
   "id": "7288ba62",
   "metadata": {},
   "outputs": [
    {
     "data": {
      "text/plain": [
       "\n",
       "\tKPSS Test for Level Stationarity\n",
       "\n",
       "data:  data2\n",
       "KPSS Level = 0.11868, Truncation lag parameter = 7, p-value = 0.1\n"
      ]
     },
     "metadata": {},
     "output_type": "display_data"
    }
   ],
   "source": [
    "kpss.test(data2)"
   ]
  },
  {
   "cell_type": "code",
   "execution_count": 99,
   "id": "e634275c",
   "metadata": {},
   "outputs": [
    {
     "data": {
      "text/plain": [
       "\n",
       "\tPhillips-Perron Unit Root Test\n",
       "\n",
       "data:  data2\n",
       "Dickey-Fuller Z(alpha) = -1183.5, Truncation lag parameter = 7, p-value\n",
       "= 0.01\n",
       "alternative hypothesis: stationary\n"
      ]
     },
     "metadata": {},
     "output_type": "display_data"
    }
   ],
   "source": [
    "pp.test(data2)"
   ]
  },
  {
   "cell_type": "markdown",
   "id": "cb7ee106",
   "metadata": {},
   "source": [
    "For PP test and ADF test p-value is less than 0.05(significance level). So we can reject the null hypothesis. So, the log return series is staionary. Similarly the p-value for KPSS test is 0.1 which is greater than 0.05(significance level). SO we fail to reject null hypothesis. So, from that test also the conclusion is that the log return series is stationary. "
   ]
  },
  {
   "cell_type": "markdown",
   "id": "6d34ead0",
   "metadata": {},
   "source": [
    "### Train - Test split of the dataset"
   ]
  },
  {
   "cell_type": "markdown",
   "id": "60eacf2f",
   "metadata": {},
   "source": [
    "As mentioned earlier, I have taken last 6 data points as test values. "
   ]
  },
  {
   "cell_type": "code",
   "execution_count": 12,
   "id": "3e1c55a6",
   "metadata": {},
   "outputs": [],
   "source": [
    "period = 6\n",
    "n<- length(data2)\n",
    "train_lim = n - period\n",
    "train_data = data2[c(1:train_lim)]\n",
    "test_data = data2[c((train_lim+1):n)]"
   ]
  },
  {
   "cell_type": "code",
   "execution_count": 13,
   "id": "309554e2",
   "metadata": {},
   "outputs": [
    {
     "data": {
      "text/html": [
       "1018"
      ],
      "text/latex": [
       "1018"
      ],
      "text/markdown": [
       "1018"
      ],
      "text/plain": [
       "[1] 1018"
      ]
     },
     "metadata": {},
     "output_type": "display_data"
    },
    {
     "data": {
      "text/html": [
       "6"
      ],
      "text/latex": [
       "6"
      ],
      "text/markdown": [
       "6"
      ],
      "text/plain": [
       "[1] 6"
      ]
     },
     "metadata": {},
     "output_type": "display_data"
    }
   ],
   "source": [
    "length(train_data)\n",
    "length(test_data)"
   ]
  },
  {
   "cell_type": "markdown",
   "id": "14c8e0f0",
   "metadata": {},
   "source": [
    "### Fitting ARMA Model (Using AIC and BIC Values)"
   ]
  },
  {
   "cell_type": "code",
   "execution_count": 83,
   "id": "d64b32e3",
   "metadata": {},
   "outputs": [],
   "source": [
    "diff<-ndiffs(train_data)"
   ]
  },
  {
   "cell_type": "code",
   "execution_count": 84,
   "id": "c2cba366",
   "metadata": {},
   "outputs": [
    {
     "data": {
      "text/plain": [
       "Series: train_data \n",
       "ARIMA(1,0,0) with non-zero mean \n",
       "\n",
       "Coefficients:\n",
       "         ar1    mean\n",
       "      -0.142  0.0013\n",
       "s.e.   0.031  0.0006\n",
       "\n",
       "sigma^2 estimated as 0.0004118:  log likelihood=2524.1\n",
       "AIC=-5042.21   AICc=-5042.18   BIC=-5027.43"
      ]
     },
     "metadata": {},
     "output_type": "display_data"
    }
   ],
   "source": [
    "aic_model = auto.arima(train_data,max.p = 5, max.q = 5,d = diff, ic = \"aic\")\n",
    "aic_model"
   ]
  },
  {
   "cell_type": "code",
   "execution_count": 16,
   "id": "5e48f6df",
   "metadata": {
    "scrolled": true
   },
   "outputs": [
    {
     "data": {
      "text/plain": [
       "Series: train_data \n",
       "ARIMA(1,0,0) with zero mean \n",
       "\n",
       "Coefficients:\n",
       "          ar1\n",
       "      -0.1376\n",
       "s.e.   0.0310\n",
       "\n",
       "sigma^2 estimated as 0.0004136:  log likelihood=2521.49\n",
       "AIC=-5038.97   AICc=-5038.96   BIC=-5029.12"
      ]
     },
     "metadata": {},
     "output_type": "display_data"
    }
   ],
   "source": [
    "bic_model = auto.arima(train_data,max.p = 5, max.q = 5,d =diff, ic = \"bic\")\n",
    "bic_model"
   ]
  },
  {
   "cell_type": "markdown",
   "id": "6cb3abfd",
   "metadata": {},
   "source": [
    "So from both AIC and BIC selection crietria, ARMA(1,0) seems to be the most suited model."
   ]
  },
  {
   "cell_type": "markdown",
   "id": "7ae6b16a",
   "metadata": {},
   "source": [
    "### Forecast of ARMA(1,0) model"
   ]
  },
  {
   "cell_type": "code",
   "execution_count": 85,
   "id": "4b40d386",
   "metadata": {},
   "outputs": [],
   "source": [
    "pred_arima<- forecast(aic_model, h = period)\n",
    "arima_forecast<- pred_arima$mean"
   ]
  },
  {
   "cell_type": "markdown",
   "id": "87145c59",
   "metadata": {},
   "source": [
    "### Residuals and Squared residuals of ARMA(1,0) Model"
   ]
  },
  {
   "cell_type": "code",
   "execution_count": 86,
   "id": "ebcb53e7",
   "metadata": {},
   "outputs": [],
   "source": [
    "res = aic_model$residuals\n",
    "res2 = res ^ 2"
   ]
  },
  {
   "cell_type": "markdown",
   "id": "518e5e91",
   "metadata": {},
   "source": [
    "### Ljung-Box test on residual(res) and squared residual(res2)\n"
   ]
  },
  {
   "cell_type": "code",
   "execution_count": 89,
   "id": "1db5b7b3",
   "metadata": {},
   "outputs": [
    {
     "data": {
      "text/plain": [
       "\n",
       "\tBox-Ljung test\n",
       "\n",
       "data:  res\n",
       "X-squared = 2.4392, df = 6, p-value = 0.8752\n"
      ]
     },
     "metadata": {},
     "output_type": "display_data"
    }
   ],
   "source": [
    "Box.test(res, lag = 6, type = c(\"Ljung-Box\"))"
   ]
  },
  {
   "cell_type": "code",
   "execution_count": 90,
   "id": "06c930c4",
   "metadata": {},
   "outputs": [
    {
     "data": {
      "text/plain": [
       "\n",
       "\tBox-Ljung test\n",
       "\n",
       "data:  res2\n",
       "X-squared = 315.28, df = 6, p-value < 2.2e-16\n"
      ]
     },
     "metadata": {},
     "output_type": "display_data"
    }
   ],
   "source": [
    "Box.test(res2,lag = 6, type = c(\"Ljung-Box\"))"
   ]
  },
  {
   "cell_type": "markdown",
   "id": "460690b4",
   "metadata": {},
   "source": [
    "So, we fail to reject the null hypothesis of Ljung-Box test for residuals but we can reject the null hypothesis for squared residuals based on the pavlue. "
   ]
  },
  {
   "cell_type": "markdown",
   "id": "02f82291",
   "metadata": {},
   "source": [
    "### Calculating the order of Garch model using AIC and BIC"
   ]
  },
  {
   "cell_type": "code",
   "execution_count": 34,
   "id": "a1f4d869",
   "metadata": {},
   "outputs": [
    {
     "name": "stdout",
     "output_type": "stream",
     "text": [
      "\n",
      "Iter: 1 fn: -2687.8018\t Pars:  -0.03378778  0.00001653  0.13438727  0.83079303  5.01633288\n",
      "Iter: 2 fn: -2687.8018\t Pars:  -0.03377634  0.00001653  0.13438606  0.83080264  5.01598904\n",
      "solnp--> Completed in 2 iterations\n",
      "\n",
      "Iter: 1 fn: -2687.6933\t Pars:  -0.034068471  0.000016649  0.135032577  0.830126386  0.000003985  4.996593500\n",
      "Iter: 2 fn: -2687.6933\t Pars:  -0.03406801  0.00001665  0.13502674  0.83013200  0.00000197  4.99681487\n",
      "solnp--> Completed in 2 iterations\n",
      "\n",
      "Iter: 1 fn: -2687.8643\t Pars:  -0.0341752376  0.0000166116  0.1358300109  0.8300078220  0.0000012835  0.0000009903  4.9875395171\n",
      "Iter: 2 fn: -2687.8643\t Pars:  -0.0341745279  0.0000166119  0.1358323715  0.8300078473  0.0000006433  0.0000006955  4.9874129379\n",
      "solnp--> Completed in 2 iterations\n",
      "\n",
      "Iter: 1 fn: -2687.6818\t Pars:  -0.0347195925  0.0000166276  0.1358544537  0.8302050625  0.0000004293  0.0000005931  0.0000004559  4.9671774233\n",
      "Iter: 2 fn: -2687.6818\t Pars:  -0.0347910918  0.0000166438  0.1359185087  0.8300978178  0.0000003162  0.0000004280  0.0000003243  4.9677695488\n",
      "solnp--> Completed in 2 iterations\n",
      "\n",
      "Iter: 1 fn: -2688.1817\t Pars:  -0.03490059  0.00001883  0.09572959  0.05619668  0.80874066  5.05769141\n",
      "Iter: 2 fn: -2688.1817\t Pars:  -0.03490059  0.00001883  0.09572959  0.05619668  0.80874066  5.05769141\n",
      "solnp--> Completed in 2 iterations\n",
      "\n",
      "Iter: 1 fn: -2688.7140\t Pars:  -0.03684459  0.00002958  0.10060653  0.14645505  0.02688032  0.66416544  5.06819175\n",
      "Iter: 2 fn: -2688.7140\t Pars:  -0.03684336  0.00002959  0.10062578  0.14648655  0.02686152  0.66412922  5.06778403\n",
      "solnp--> Completed in 2 iterations\n",
      "\n",
      "Iter: 1 fn: -2689.8308\t Pars:  -0.0418172372  0.0000331095  0.0925900346  0.1888938565  0.1961133426  0.0000005804  0.4548775607  5.0766489595\n",
      "Iter: 2 fn: -2689.8308\t Pars:  -0.04181743505  0.00003310953  0.09259003687  0.18889387510  0.19611532315  0.00000004688  0.45487407483  5.07678363823\n",
      "solnp--> Completed in 2 iterations\n",
      "\n",
      "Iter: 1 fn: -2689.8993\t Pars:  -0.0422598484  0.0000331237  0.0914584982  0.1917414496  0.1942225488  0.0000006458  0.4561829202  0.0000071795  5.0621657291\n",
      "Iter: 2 fn: -2689.8993\t Pars:  -0.0422606476  0.0000331244  0.0914589543  0.1917425891  0.1942259989  0.0000004236  0.4561837149  0.0000048152  5.0619512363\n",
      "solnp--> Completed in 2 iterations\n",
      "\n",
      "Iter: 1 fn: -2688.2175\t Pars:  -0.0349565881  0.0000185726  0.1012700816  0.0494334451  0.0000008068  0.8109671380  5.0392529649\n",
      "Iter: 2 fn: -2688.2175\t Pars:  -0.0349534444  0.0000185680  0.1012632240  0.0494264015  0.0000003556  0.8109961833  5.0392219695\n",
      "solnp--> Completed in 2 iterations\n",
      "\n",
      "Iter: 1 fn: -2688.6973\t Pars:  -0.03704338  0.00003095  0.09614083  0.14884127  0.01262898  0.00003074  0.67818508  5.05924452\n",
      "Iter: 2 fn: -2688.6973\t Pars:  -0.03704612  0.00003095  0.09613853  0.14883850  0.01263119  0.00001749  0.67820317  5.05904910\n",
      "solnp--> Completed in 2 iterations\n",
      "\n",
      "Iter: 1 fn: -2688.6973\t Pars:  -0.037070487  0.000030967  0.096147955  0.148834314  0.012638966  0.000005663  0.678157697  0.000009867  5.058618475\n",
      "Iter: 2 fn: -2688.6973\t Pars:  -0.037054327  0.000030956  0.096138482  0.148838825  0.012640017  0.000002631  0.678195595  0.000004653  5.058699634\n",
      "solnp--> Completed in 2 iterations\n",
      "\n",
      "Iter: 1 fn: -2690.5704\t Pars:  -0.0395481024  0.0000411156  0.0829742210  0.1950268107  0.0749597458  0.0000014970  0.0000002847  0.5121069917  0.0514535701  5.0985303874\n",
      "Iter: 2 fn: -2690.5704\t Pars:  -0.0395486897  0.0000411151  0.0829724298  0.1950235346  0.0749562633  0.0000005937  0.0000001060  0.5121064256  0.0514586768  5.0987495852\n",
      "solnp--> Completed in 2 iterations\n",
      "\n",
      "Iter: 1 fn: -2688.1621\t Pars:  -0.03549097461  0.00001880741  0.09654462387  0.05627817323  0.00000009717  0.00000100429  0.80883448423  5.02692025536\n",
      "Iter: 2 fn: -2688.1621\t Pars:  -0.03549143770  0.00001880805  0.09654330036  0.05628162900  0.00000006841  0.00000053853  0.80882976183  5.02706259241\n",
      "solnp--> Completed in 2 iterations\n",
      "\n",
      "Iter: 1 fn: -2688.7303\t Pars:  -0.0375609868  0.0000308227  0.0961551773  0.1503277538  0.0116482220  0.0000003764  0.0000298515  0.6790469585  5.0402314705\n",
      "Iter: 2 fn: -2688.7303\t Pars:  -0.0375588304  0.0000308223  0.0961626566  0.1503249728  0.0116420439  0.0000001718  0.0000076546  0.6790799207  5.0398894444\n",
      "solnp--> Completed in 2 iterations\n",
      "\n",
      "Iter: 1 fn: -2690.4826\t Pars:  -0.0378691591  0.0000427093  0.0770175330  0.1838005692  0.0980729571  0.0000000492  0.0000041034  0.0000001100  0.5538723805  5.1035982184\n",
      "Iter: 2 fn: -2690.4826\t Pars:  -0.03786943666  0.00004271023  0.07701930721  0.18380470615  0.09807439932  0.00000003353  0.00000231471  0.00000007897  0.55387187040  5.10336962746\n",
      "solnp--> Completed in 2 iterations\n",
      "\n",
      "Iter: 1 fn: -2690.5704\t Pars:  -0.0395531767  0.0000411170  0.0829727602  0.1950235752  0.0749500957  0.0000001641  0.0000020357  0.0000003332  0.5121047829  0.0514586295  5.0983586102\n",
      "Iter: 2 fn: -2690.5704\t Pars:  -0.03955023736  0.00004111582  0.08297273941  0.19502406005  0.07495527923  0.00000005439  0.00000037392  0.00000009192  0.51210343050  0.05145780870  5.09869611022\n",
      "solnp--> Completed in 2 iterations\n"
     ]
    }
   ],
   "source": [
    "aic.garch <- matrix(0,4,4)\n",
    "bic.garch <- matrix(0,4,4)\n",
    "\n",
    "for (i in 1:4) {\n",
    "  for (j in 1:4) {\n",
    "    garch.spec = ugarchspec(variance.model = list(garchOrder=c(i,j)), \n",
    "                            mean.model = list(armaOrder=c(1,0),include.mean = FALSE),\n",
    "                            distribution.model = \"std\")\n",
    "    garch.fit = ugarchfit(spec=garch.spec, data=train_data,\n",
    "                          solver.control=list(trace = 1))\n",
    "    aic.garch[i,j] <- infocriteria(garch.fit)[1]\n",
    "    bic.garch[i,j] <- infocriteria(garch.fit)[2]\n",
    "  }\n",
    "}"
   ]
  },
  {
   "cell_type": "code",
   "execution_count": 35,
   "id": "e809bd49",
   "metadata": {},
   "outputs": [
    {
     "data": {
      "text/html": [
       "<table>\n",
       "<thead><tr><th scope=col>row</th><th scope=col>col</th></tr></thead>\n",
       "<tbody>\n",
       "\t<tr><td>1</td><td>1</td></tr>\n",
       "</tbody>\n",
       "</table>\n"
      ],
      "text/latex": [
       "\\begin{tabular}{ll}\n",
       " row & col\\\\\n",
       "\\hline\n",
       "\t 1 & 1\\\\\n",
       "\\end{tabular}\n"
      ],
      "text/markdown": [
       "\n",
       "| row | col |\n",
       "|---|---|\n",
       "| 1 | 1 |\n",
       "\n"
      ],
      "text/plain": [
       "     row col\n",
       "[1,] 1   1  "
      ]
     },
     "metadata": {},
     "output_type": "display_data"
    }
   ],
   "source": [
    "which(aic.garch == min(aic.garch), arr.ind = TRUE)"
   ]
  },
  {
   "cell_type": "code",
   "execution_count": 36,
   "id": "3521447b",
   "metadata": {},
   "outputs": [
    {
     "data": {
      "text/html": [
       "<table>\n",
       "<thead><tr><th scope=col>row</th><th scope=col>col</th></tr></thead>\n",
       "<tbody>\n",
       "\t<tr><td>1</td><td>1</td></tr>\n",
       "</tbody>\n",
       "</table>\n"
      ],
      "text/latex": [
       "\\begin{tabular}{ll}\n",
       " row & col\\\\\n",
       "\\hline\n",
       "\t 1 & 1\\\\\n",
       "\\end{tabular}\n"
      ],
      "text/markdown": [
       "\n",
       "| row | col |\n",
       "|---|---|\n",
       "| 1 | 1 |\n",
       "\n"
      ],
      "text/plain": [
       "     row col\n",
       "[1,] 1   1  "
      ]
     },
     "metadata": {},
     "output_type": "display_data"
    }
   ],
   "source": [
    "which(bic.garch == min(bic.garch), arr.ind = TRUE)"
   ]
  },
  {
   "cell_type": "markdown",
   "id": "e5462088",
   "metadata": {},
   "source": [
    "GARCH(1,1) seems to be the best suited model(from both AIC and BIC). Here we have stored the AIC and BIC values of differentc orders of GARCH models like (1,1),(1,2),(2,1)...(4,4) into two 4X4 matrices and took the order producing minimum AIC and BIC value respectively. For both AIC and BIC GARCH(1,1) is the best model. "
   ]
  },
  {
   "cell_type": "markdown",
   "id": "08d4e12a",
   "metadata": {},
   "source": [
    "### Fitting the appropriate GARCH Model"
   ]
  },
  {
   "cell_type": "code",
   "execution_count": 33,
   "id": "8fdd1e2b",
   "metadata": {},
   "outputs": [
    {
     "data": {
      "text/plain": [
       "\n",
       "*---------------------------------*\n",
       "*          GARCH Model Fit        *\n",
       "*---------------------------------*\n",
       "\n",
       "Conditional Variance Dynamics \t\n",
       "-----------------------------------\n",
       "GARCH Model\t: sGARCH(1,1)\n",
       "Mean Model\t: ARFIMA(1,0,0)\n",
       "Distribution\t: norm \n",
       "\n",
       "Optimal Parameters\n",
       "------------------------------------\n",
       "        Estimate  Std. Error  t value Pr(>|t|)\n",
       "mu      0.002185    0.000475   4.5983 0.000004\n",
       "ar1    -0.039600    0.035350  -1.1202 0.262620\n",
       "omega   0.000016    0.000004   3.9601 0.000075\n",
       "alpha1  0.157138    0.027116   5.7950 0.000000\n",
       "beta1   0.808121    0.023297  34.6873 0.000000\n",
       "\n",
       "Robust Standard Errors:\n",
       "        Estimate  Std. Error  t value Pr(>|t|)\n",
       "mu      0.002185    0.000498   4.3826 0.000012\n",
       "ar1    -0.039600    0.033927  -1.1672 0.243126\n",
       "omega   0.000016    0.000006   2.5327 0.011320\n",
       "alpha1  0.157138    0.039698   3.9583 0.000075\n",
       "beta1   0.808121    0.026304  30.7222 0.000000\n",
       "\n",
       "LogLikelihood : 2663.794 \n",
       "\n",
       "Information Criteria\n",
       "------------------------------------\n",
       "                    \n",
       "Akaike       -5.2236\n",
       "Bayes        -5.1994\n",
       "Shibata      -5.2236\n",
       "Hannan-Quinn -5.2144\n",
       "\n",
       "Weighted Ljung-Box Test on Standardized Residuals\n",
       "------------------------------------\n",
       "                        statistic p-value\n",
       "Lag[1]                    0.02709  0.8693\n",
       "Lag[2*(p+q)+(p+q)-1][2]   0.22535  0.9981\n",
       "Lag[4*(p+q)+(p+q)-1][5]   1.41246  0.8675\n",
       "d.o.f=1\n",
       "H0 : No serial correlation\n",
       "\n",
       "Weighted Ljung-Box Test on Standardized Squared Residuals\n",
       "------------------------------------\n",
       "                        statistic p-value\n",
       "Lag[1]                      1.252  0.2632\n",
       "Lag[2*(p+q)+(p+q)-1][5]     1.432  0.7566\n",
       "Lag[4*(p+q)+(p+q)-1][9]     3.180  0.7289\n",
       "d.o.f=2\n",
       "\n",
       "Weighted ARCH LM Tests\n",
       "------------------------------------\n",
       "            Statistic Shape Scale P-Value\n",
       "ARCH Lag[3]    0.1272 0.500 2.000  0.7213\n",
       "ARCH Lag[5]    0.2146 1.440 1.667  0.9620\n",
       "ARCH Lag[7]    1.9667 2.315 1.543  0.7244\n",
       "\n",
       "Nyblom stability test\n",
       "------------------------------------\n",
       "Joint Statistic:  3.3393\n",
       "Individual Statistics:              \n",
       "mu     0.16780\n",
       "ar1    0.11743\n",
       "omega  0.48703\n",
       "alpha1 0.09668\n",
       "beta1  0.11629\n",
       "\n",
       "Asymptotic Critical Values (10% 5% 1%)\n",
       "Joint Statistic:     \t 1.28 1.47 1.88\n",
       "Individual Statistic:\t 0.35 0.47 0.75\n",
       "\n",
       "Sign Bias Test\n",
       "------------------------------------\n",
       "                   t-value    prob sig\n",
       "Sign Bias           2.1456 0.03214  **\n",
       "Negative Sign Bias  1.2584 0.20855    \n",
       "Positive Sign Bias  0.2326 0.81614    \n",
       "Joint Effect        7.1286 0.06791   *\n",
       "\n",
       "\n",
       "Adjusted Pearson Goodness-of-Fit Test:\n",
       "------------------------------------\n",
       "  group statistic p-value(g-1)\n",
       "1    20     40.70     0.002643\n",
       "2    30     57.58     0.001223\n",
       "3    40     60.59     0.014939\n",
       "4    50     74.44     0.011030\n",
       "\n",
       "\n",
       "Elapsed time : 0.09082198 \n"
      ]
     },
     "metadata": {},
     "output_type": "display_data"
    }
   ],
   "source": [
    "parm = ugarchspec(variance.model = list(model = \"sGARCH\", \n",
    "                                        garchOrder = c(1,1)),\n",
    "                  mean.model     = list(armaOrder = c(1,0)),\n",
    "                  distribution.model = 'norm' )\n",
    "garch <- ugarchfit(spec = parm , data = train_data)\n",
    "garch"
   ]
  },
  {
   "cell_type": "markdown",
   "id": "a00906df",
   "metadata": {},
   "source": [
    "### Forecasting from GARCH model"
   ]
  },
  {
   "cell_type": "code",
   "execution_count": 48,
   "id": "eff511eb",
   "metadata": {},
   "outputs": [],
   "source": [
    "pred_garch = ugarchforecast(garch, data = train_data, n.ahead = period)\n",
    "\n",
    "garch_forecast<- pred_garch@forecast$seriesFor"
   ]
  },
  {
   "cell_type": "markdown",
   "id": "92c17524",
   "metadata": {},
   "source": [
    "## Plotting"
   ]
  },
  {
   "cell_type": "markdown",
   "id": "dd55a10c",
   "metadata": {},
   "source": [
    "### Plotting of Forecast and Test values of log return of Stock Price "
   ]
  },
  {
   "cell_type": "code",
   "execution_count": 74,
   "id": "86d960c1",
   "metadata": {
    "scrolled": false
   },
   "outputs": [
    {
     "data": {
      "image/png": "[encoded data removed]",
      "text/plain": [
       "Plot with title \"Actual and Forecasted values of log-return of stock price\""
      ]
     },
     "metadata": {},
     "output_type": "display_data"
    }
   ],
   "source": [
    "plot(NULL,xlim = c((train_lim+1),n),ylim = c(-0.1,0.1),ylab = 'Market Log Return',xlab='Time',\n",
    "     main = 'Actual and Forecasted values of log-return of stock price')\n",
    "points(c((train_lim+1):n), test_data,type='l',lwd=2,col='blue')\n",
    "points(c((train_lim+1):n), arima_forecast, type='l', lwd = 2, col = 'red')\n",
    "points(c((train_lim+1):n), garch_forecast,type='l',lwd=2,col='black')\n",
    "legend(\"topright\",legend =  c(\"Test Values(actual)\",\"GARCH Forecast\",\"ARMA Forecast\"),\n",
    "       col = c(\"blue\",\"black\",\"red\"),lty = 1)"
   ]
  },
  {
   "cell_type": "markdown",
   "id": "6f20b769",
   "metadata": {},
   "source": [
    "But this forecast is the log return of stock price(log(Pt/Pt-1)). We have to convert it to actual stock price(Pt) to get the price forecast of the stock."
   ]
  },
  {
   "cell_type": "markdown",
   "id": "2b8e185c",
   "metadata": {},
   "source": [
    "### Conversion of the forecast of log return of the stock prices into stock prices"
   ]
  },
  {
   "cell_type": "code",
   "execution_count": 62,
   "id": "a80522d9",
   "metadata": {},
   "outputs": [],
   "source": [
    "pred_arma_d1 = ts(c(train_data, arima_forecast))\n",
    "pred_garch_d1 = ts(c(train_data, garch_forecast))\n",
    "\n",
    "pred_arma = ts(exp(cumsum(c((log(data))[1],pred_arma_d1))), start = c(2017,11,1), frequency = 365 )\n",
    "pred_garch = ts(exp(cumsum(c((log(data))[1],pred_garch_d1))), start = c(2017,11,1), frequency = 365)"
   ]
  },
  {
   "cell_type": "markdown",
   "id": "786f718b",
   "metadata": {},
   "source": [
    "### Plotting of Forecast and Test values of Actual Stock Price "
   ]
  },
  {
   "cell_type": "code",
   "execution_count": 92,
   "id": "5ff00766",
   "metadata": {},
   "outputs": [
    {
     "data": {
      "image/png": "[encoded data removed]",
      "text/plain": [
       "Plot with title \"Comparison of Actual and Forecasted values of Stock Price\""
      ]
     },
     "metadata": {},
     "output_type": "display_data"
    }
   ],
   "source": [
    "plot(NULL,ylab = 'Stock Price',xlab='Time',xlim=c(1020,1025),ylim = c(150,170),\n",
    "     main = 'Comparison of Actual and Forecasted values of Stock Price')\n",
    "\n",
    "points(c((length(data)-period+1):length(data)),data[(length(data)-period+1):length(data)],type='l',lwd=2,col='blue')\n",
    "points(c((length(data)-period+1):length(data)), pred_arma[(length(data)-period+1):length(data)], type='l', lwd = 2, col = 'red')\n",
    "points(c((length(data)-period+1):length(data)), pred_garch[(length(data)-period+1):length(data)],type='l',lwd=2,col='black')\n",
    "legend(\"topright\",legend =  c(\"Test(Actual)\",\"GARCH Forecast\", \"ARMA Forecast\"),col = c(\"blue\",\"black\", \"red\"),lty = 1)"
   ]
  },
  {
   "cell_type": "markdown",
   "id": "bf9a5a15",
   "metadata": {},
   "source": [
    "## Calculation of Mean Squared Error"
   ]
  },
  {
   "cell_type": "markdown",
   "id": "5b1888d2",
   "metadata": {},
   "source": [
    "### Considering the Log return of stock prices"
   ]
  },
  {
   "cell_type": "markdown",
   "id": "22ce455a",
   "metadata": {},
   "source": [
    "MSE for ARMA"
   ]
  },
  {
   "cell_type": "code",
   "execution_count": 76,
   "id": "4bb0a9bc",
   "metadata": {},
   "outputs": [
    {
     "data": {
      "text/html": [
       "0.000366984425666845"
      ],
      "text/latex": [
       "0.000366984425666845"
      ],
      "text/markdown": [
       "0.000366984425666845"
      ],
      "text/plain": [
       "[1] 0.0003669844"
      ]
     },
     "metadata": {},
     "output_type": "display_data"
    }
   ],
   "source": [
    "mse_arma=sum((test_data-arima_forecast)^2)/period\n",
    "mse_arma"
   ]
  },
  {
   "cell_type": "markdown",
   "id": "7709f1b7",
   "metadata": {},
   "source": [
    "MSE for GARCH"
   ]
  },
  {
   "cell_type": "code",
   "execution_count": 77,
   "id": "3be2cb97",
   "metadata": {},
   "outputs": [
    {
     "data": {
      "text/html": [
       "0.000350060429532777"
      ],
      "text/latex": [
       "0.000350060429532777"
      ],
      "text/markdown": [
       "0.000350060429532777"
      ],
      "text/plain": [
       "[1] 0.0003500604"
      ]
     },
     "metadata": {},
     "output_type": "display_data"
    }
   ],
   "source": [
    "mse_garch = sum((test_data - forecast_garch)^2)/period\n",
    "mse_garch"
   ]
  },
  {
   "cell_type": "markdown",
   "id": "1c2d03c6",
   "metadata": {},
   "source": [
    "### Considering actual stock prices"
   ]
  },
  {
   "cell_type": "markdown",
   "id": "2508d975",
   "metadata": {},
   "source": [
    "MSE for ARMA"
   ]
  },
  {
   "cell_type": "code",
   "execution_count": 79,
   "id": "b52099a0",
   "metadata": {},
   "outputs": [
    {
     "data": {
      "text/html": [
       "40.3474562605365"
      ],
      "text/latex": [
       "40.3474562605365"
      ],
      "text/markdown": [
       "40.3474562605365"
      ],
      "text/plain": [
       "[1] 40.34746"
      ]
     },
     "metadata": {},
     "output_type": "display_data"
    }
   ],
   "source": [
    "mse_arma_actual=sum((data[(length(data)-period+1):length(data)]-pred_arma[(length(data)-period+1):length(data)])^2)/period\n",
    "mse_arma_actual"
   ]
  },
  {
   "cell_type": "markdown",
   "id": "f570f080",
   "metadata": {},
   "source": [
    "MSE for GARCH"
   ]
  },
  {
   "cell_type": "code",
   "execution_count": 80,
   "id": "c50613b9",
   "metadata": {},
   "outputs": [
    {
     "data": {
      "text/html": [
       "32.6088732241217"
      ],
      "text/latex": [
       "32.6088732241217"
      ],
      "text/markdown": [
       "32.6088732241217"
      ],
      "text/plain": [
       "[1] 32.60887"
      ]
     },
     "metadata": {},
     "output_type": "display_data"
    }
   ],
   "source": [
    "mse_garch_actual=sum((data[(length(data)-period+1):length(data)]-pred_garch[(length(data)-period+1):length(data)])^2)/period\n",
    "mse_garch_actual"
   ]
  },
  {
   "cell_type": "markdown",
   "id": "436dcb5e",
   "metadata": {},
   "source": [
    "So, Mean Squared Error of GARCH Model is lower than that of ARMA Model. "
   ]
  }
 ],
 "metadata": {
  "kernelspec": {
   "display_name": "R",
   "language": "R",
   "name": "ir"
  },
  "language_info": {
   "codemirror_mode": "r",
   "file_extension": ".r",
   "mimetype": "text/x-r-source",
   "name": "R",
   "pygments_lexer": "r",
   "version": "3.6.1"
  }
 },
 "nbformat": 4,
 "nbformat_minor": 5
}
